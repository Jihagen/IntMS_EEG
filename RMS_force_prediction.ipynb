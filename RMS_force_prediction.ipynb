{
 "cells": [
  {
   "cell_type": "markdown",
   "metadata": {},
   "source": [
    "# PoC predicting force from RMS\n",
    "#"
   ]
  },
  {
   "cell_type": "code",
   "execution_count": 3,
   "metadata": {},
   "outputs": [
    {
     "name": "stdout",
     "output_type": "stream",
     "text": [
      "Test set size: 3 samples\n",
      "Accuracy: 0.6666666666666666\n",
      "Classification Report:\n",
      "               precision    recall  f1-score   support\n",
      "\n",
      "          F1       0.67      1.00      0.80         2\n",
      "          F2       0.00      0.00      0.00         1\n",
      "\n",
      "    accuracy                           0.67         3\n",
      "   macro avg       0.33      0.50      0.40         3\n",
      "weighted avg       0.44      0.67      0.53         3\n",
      "\n",
      "Confusion Matrix:\n",
      " [[2 0]\n",
      " [1 0]]\n",
      "\n",
      "Samples and RMS values:\n",
      "                                                  file       rms label  \\\n",
      "0   P3_90Deg_F1_1_plateau_iAll_MUedit.mat_decomp_7...  0.012132    F1   \n",
      "1   P3_90Deg_F1_1_plateau_iAll_MUedit.mat_decomp_7...  0.048417    F1   \n",
      "2   P1_90Deg_F1_1_plateau_iAll_MUedit.mat_decomp_1...  0.046216    F1   \n",
      "3   P1_90Deg_F1_1_plateau_iAll_MUedit.mat_decomp_1...  0.034405    F1   \n",
      "4   P1_180Deg_F1_1_plateau_iAll_MUedit.mat_decomp_...  0.021734    F1   \n",
      "5   P1_180Deg_F1_1_plateau_iAll_MUedit.mat_decomp_...  0.027483    F1   \n",
      "6   P1_180Deg_F1_2_plateau_iAll_MUedit.mat_decomp_...  0.008405    F1   \n",
      "7   P1_180Deg_F1_2_plateau_iAll_MUedit.mat_decomp_...  0.053728    F1   \n",
      "8   P1_90Deg_F2_2_plateau_iAll_MUedit.mat_decomp_1...  0.040571    F2   \n",
      "9   P1_90Deg_F2_2_plateau_iAll_MUedit.mat_decomp_1...  0.017769    F2   \n",
      "10  P3_180Deg_F1_2_plateau_iAll_MUedit.mat_decomp_...  0.057902    F1   \n",
      "11  P3_180Deg_F1_2_plateau_iAll_MUedit.mat_decomp_...  0.062824    F1   \n",
      "\n",
      "    label_enc  \n",
      "0           0  \n",
      "1           0  \n",
      "2           0  \n",
      "3           0  \n",
      "4           0  \n",
      "5           0  \n",
      "6           0  \n",
      "7           0  \n",
      "8           1  \n",
      "9           1  \n",
      "10          0  \n",
      "11          0  \n"
     ]
    },
    {
     "name": "stderr",
     "output_type": "stream",
     "text": [
      "/Users/juliahagen/Library/Caches/pypoetry/virtualenvs/fd-intraeeg-SfzCdUtK-py3.10/lib/python3.10/site-packages/sklearn/metrics/_classification.py:1706: UndefinedMetricWarning: Precision is ill-defined and being set to 0.0 in labels with no predicted samples. Use `zero_division` parameter to control this behavior.\n",
      "  _warn_prf(average, modifier, f\"{metric.capitalize()} is\", result.shape[0])\n",
      "/Users/juliahagen/Library/Caches/pypoetry/virtualenvs/fd-intraeeg-SfzCdUtK-py3.10/lib/python3.10/site-packages/sklearn/metrics/_classification.py:1706: UndefinedMetricWarning: Precision is ill-defined and being set to 0.0 in labels with no predicted samples. Use `zero_division` parameter to control this behavior.\n",
      "  _warn_prf(average, modifier, f\"{metric.capitalize()} is\", result.shape[0])\n",
      "/Users/juliahagen/Library/Caches/pypoetry/virtualenvs/fd-intraeeg-SfzCdUtK-py3.10/lib/python3.10/site-packages/sklearn/metrics/_classification.py:1706: UndefinedMetricWarning: Precision is ill-defined and being set to 0.0 in labels with no predicted samples. Use `zero_division` parameter to control this behavior.\n",
      "  _warn_prf(average, modifier, f\"{metric.capitalize()} is\", result.shape[0])\n"
     ]
    }
   ],
   "source": [
    "import os\n",
    "import numpy as np\n",
    "import pandas as pd\n",
    "import scipy.io\n",
    "from sklearn.model_selection import train_test_split\n",
    "from sklearn.linear_model import LogisticRegression\n",
    "from sklearn.metrics import accuracy_score, classification_report, confusion_matrix\n",
    "\n",
    "# Function to compute RMS of numeric data in a file (CSV, TXT, or MATLAB .mat)\n",
    "def compute_rms(file_path):\n",
    "    ext = os.path.splitext(file_path)[1].lower()\n",
    "    # Handle MATLAB .mat files\n",
    "    if ext == '.mat':\n",
    "        mat_data = scipy.io.loadmat(file_path)\n",
    "        # Filter out metadata keys\n",
    "        arrays = [v for k, v in mat_data.items() if not k.startswith('__')]\n",
    "        if not arrays:\n",
    "            raise RuntimeError(f\"No numeric arrays found in {file_path}\")\n",
    "        # Use the first array found\n",
    "        data = np.array(arrays[0])\n",
    "    else:\n",
    "        # Load numeric data; adjust delimiter if needed\n",
    "        try:\n",
    "            data = np.loadtxt(file_path, delimiter=',')\n",
    "        except Exception:\n",
    "            data = np.loadtxt(file_path)\n",
    "    # Determine the values vector\n",
    "    if data.ndim == 1:\n",
    "        values = data\n",
    "    elif data.ndim > 1:\n",
    "        # assume measurement in second column\n",
    "        values = data[:, 1]\n",
    "    else:\n",
    "        raise RuntimeError(f\"Unsupported data dimensions in {file_path}\")\n",
    "    # Compute RMS\n",
    "    return np.sqrt(np.mean(values**2))\n",
    "\n",
    "# Path to your samples folder (e.g., contains F1_xxx.mat, F2_xxx.mat)\n",
    "samples_folder = \"samples\"\n",
    "\n",
    "data = []\n",
    "for fname in os.listdir(samples_folder):\n",
    "    ext = os.path.splitext(fname)[1].lower()\n",
    "    if ext in ('.csv', '.txt', '.mat'):\n",
    "        path = os.path.join(samples_folder, fname)\n",
    "        rms_val = compute_rms(path)\n",
    "        # Extract class label from filename (F1 or F2)\n",
    "        key = fname.upper()\n",
    "        if 'F1' in key:\n",
    "            label = 'F1'\n",
    "        elif 'F2' in key:\n",
    "            label = 'F2'\n",
    "        else:\n",
    "            # Skip files without F1/F2 in name\n",
    "            continue\n",
    "        data.append({'file': fname, 'rms': rms_val, 'label': label})\n",
    "\n",
    "# Create DataFrame\n",
    "if not data:\n",
    "    raise RuntimeError(\"No valid sample files found in 'samples' folder.\")\n",
    "\n",
    "df = pd.DataFrame(data)\n",
    "df['label_enc'] = df['label'].map({'F1': 0, 'F2': 1})\n",
    "\n",
    "# Features and target\n",
    "X = df[['rms']].values\n",
    "y = df['label_enc'].values\n",
    "\n",
    "# Split into train/test sets\n",
    "test_size = 0.2\n",
    "X_train, X_test, y_train, y_test = train_test_split(X, y, test_size=test_size, random_state=42)\n",
    "\n",
    "# Train a simple logistic regression classifier\n",
    "model = LogisticRegression()\n",
    "model.fit(X_train, y_train)\n",
    "\n",
    "# Predict on test set\n",
    "y_pred = model.predict(X_test)\n",
    "\n",
    "# Evaluation\n",
    "print(f\"Test set size: {len(X_test)} samples\")\n",
    "print(\"Accuracy:\", accuracy_score(y_test, y_pred))\n",
    "print(\"Classification Report:\\n\", classification_report(y_test, y_pred, target_names=['F1', 'F2']))\n",
    "print(\"Confusion Matrix:\\n\", confusion_matrix(y_test, y_pred))\n",
    "\n",
    "# Display the DataFrame of RMS values and labels\n",
    "print(\"\\nSamples and RMS values:\\n\", df)"
   ]
  },
  {
   "cell_type": "code",
   "execution_count": 6,
   "metadata": {},
   "outputs": [
    {
     "name": "stdout",
     "output_type": "stream",
     "text": [
      "\n",
      "Label Distribution:\n",
      " label\n",
      "F1    10\n",
      "F2     2\n",
      "Name: count, dtype: int64\n",
      "\n",
      "RMS Statistics:\n",
      " count    12.000000\n",
      "mean      0.035965\n",
      "std       0.018427\n",
      "min       0.008405\n",
      "25%       0.020743\n",
      "50%       0.037488\n",
      "75%       0.049745\n",
      "max       0.062824\n",
      "Name: rms, dtype: float64\n"
     ]
    },
    {
     "data": {
      "text/plain": [
       "<Axes: title={'center': 'RMS Distribution'}, xlabel='RMS', ylabel='Frequency'>"
      ]
     },
     "execution_count": 6,
     "metadata": {},
     "output_type": "execute_result"
    },
    {
     "data": {
      "image/png": "[encoded data removed]",
      "text/plain": [
       "<Figure size 640x480 with 1 Axes>"
      ]
     },
     "metadata": {},
     "output_type": "display_data"
    }
   ],
   "source": [
    "\n",
    "# Distribution of labels\n",
    "label_counts = df['label'].value_counts()\n",
    "print(\"\\nLabel Distribution:\\n\", label_counts)\n",
    "\n",
    "# Plot label distribution\n",
    "label_counts.plot(kind='bar', title='Label Distribution', xlabel='Label', ylabel='Count')\n",
    "\n",
    "# Distribution of RMS\n",
    "rms_stats = df['rms'].describe()\n",
    "print(\"\\nRMS Statistics:\\n\", rms_stats)\n",
    "\n",
    "# Plot RMS distribution\n",
    "df['rms'].plot(kind='hist', bins=10, title='RMS Distribution', xlabel='RMS', ylabel='Frequency')"
   ]
  },
  {
   "cell_type": "code",
   "execution_count": null,
   "metadata": {},
   "outputs": [],
   "source": []
  }
 ],
 "metadata": {
  "kernelspec": {
   "display_name": "fd-intraeeg-SfzCdUtK-py3.10",
   "language": "python",
   "name": "python3"
  },
  "language_info": {
   "codemirror_mode": {
    "name": "ipython",
    "version": 3
   },
   "file_extension": ".py",
   "mimetype": "text/x-python",
   "name": "python",
   "nbconvert_exporter": "python",
   "pygments_lexer": "ipython3",
   "version": "3.10.9"
  }
 },
 "nbformat": 4,
 "nbformat_minor": 2
}
